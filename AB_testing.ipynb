{
  "nbformat": 4,
  "nbformat_minor": 0,
  "metadata": {
    "colab": {
      "provenance": [],
      "collapsed_sections": [],
      "mount_file_id": "18tPpb53HJ0y7K4G5nqro-WfnTyuR6GcM",
      "authorship_tag": "ABX9TyOxFiVXdztOvvFg/ZAq4xGe",
      "include_colab_link": true
    },
    "kernelspec": {
      "name": "python3",
      "display_name": "Python 3"
    },
    "language_info": {
      "name": "python"
    }
  },
  "cells": [
    {
      "cell_type": "markdown",
      "metadata": {
        "id": "view-in-github",
        "colab_type": "text"
      },
      "source": [
        "<a href=\"https://colab.research.google.com/github/abdulkadirdemirci/AB_Testning/blob/main/AB_testing.ipynb\" target=\"_parent\"><img src=\"https://colab.research.google.com/assets/colab-badge.svg\" alt=\"Open In Colab\"/></a>"
      ]
    },
    {
      "cell_type": "markdown",
      "source": [
        "#####################################\n",
        "# IS PROBLEMI\n",
        "\n",
        "Facebook kisa sure once mevcut \"maximumbidding\"\n",
        "adi verilen teklif verme turune alternatif olarak\n",
        "yeni bir teklif turu olan \"averagebidding\"’i tanitti.\n",
        "Musterilerimizden biri olanbombabomba.com, \n",
        "bu yeni ozelligi test etmeye karar verdi ve\n",
        "averagebidding'in maximumbidding'den daha fazla donusum \n",
        "getirip getirmediginianlamak icin birA/B testiyapmak istiyor.\n",
        "A/B testi 1 aydir devam ediyor ve bombabomba.com\n",
        "simdi sizden bu A/B testinin sonuclarini analiz etmenizi bekliyor.\n",
        "Bombabomba.com icin nihai basari olcutu Purchase'dir. \n",
        "Bu nedenle, istatistiksel testler icin Purchase metrigine odaklanilmalidir.\n",
        "#####################################"
      ],
      "metadata": {
        "id": "tGav3urbLBF0"
      }
    },
    {
      "cell_type": "markdown",
      "source": [
        "\n",
        "#####################################\n",
        "# VERİ SETİ HİKAYESİ\n",
        "\n",
        "Bir firmanin web site bilgilerini iceren bu veri setinde kullanicilarin\n",
        "gordukleri ve tikladiklari reklam sayilari gibi bilgilerin yani sira \n",
        "buradan gelen kazanc bilgileri yer almaktadir.Kontrol ve Test grubu olmak\n",
        "uzere iki ayri veri seti vardir. Bu veri setleriab_testing.xlsx excel’inin\n",
        "ayri sayfalarinda yer almaktadir. Kontrol grubuna Maximum Bidding, \n",
        "test grubuna AverageBidding uygulanmistir.\n",
        "\n",
        "* IMPRESSION : **REKLAM GORUNTULEM SAYISI**\n",
        "* CLICK      : **GORUNTULENEN REKLAMA TIKLAMA SAYISI**\n",
        "* PURCHASE   : **TIKLANILAN REKLAMLAR SONRASI SATIN ALININ URUN SAYISI**\n",
        "* EARNING    : **SATIN ALINAN URUNLER SONRASI ELDE EDİLEN KAZANC**\n"
      ],
      "metadata": {
        "id": "NbydklpjLIlO"
      }
    },
    {
      "cell_type": "markdown",
      "source": [
        "# GEREKLI KUTUPHANELER "
      ],
      "metadata": {
        "id": "_ta0b7nJLaVL"
      }
    },
    {
      "cell_type": "code",
      "execution_count": 1,
      "metadata": {
        "id": "VGPwXiPsKqW3"
      },
      "outputs": [],
      "source": [
        "import itertools\n",
        "import pandas as pd\n",
        "import numpy as np\n",
        "import matplotlib.pyplot as plt\n",
        "import seaborn as sns\n",
        "import statsmodels.stats.api as sms\n",
        "from scipy.stats import ttest_1samp, shapiro, levene, ttest_ind, \\\n",
        "    mannwhitneyu, pearsonr, spearmanr, kendalltau, f_oneway, kruskal\n",
        "from statsmodels.stats.proportion import proportions_ztest"
      ]
    },
    {
      "cell_type": "markdown",
      "source": [
        "#####################################\n",
        "# GOREV 1: VERIYI ANALIZ ETME\n",
        "#####################################\n",
        "# GOREV 1 ADIM 1:\n",
        "* TODO: veri setini oku\n",
        "* TODO: control ve test veri setini ayrı degiskenlere ata\n",
        "\n",
        "#####################################"
      ],
      "metadata": {
        "id": "rf1lY-ydLj5V"
      }
    },
    {
      "cell_type": "code",
      "source": [
        "df_control_ = pd.read_excel(\"/content/drive/MyDrive/veriler/ab_testing.xlsx\",sheet_name=\"Control Group\")\n",
        "df_test_    = pd.read_excel(\"/content/drive/MyDrive/veriler/ab_testing.xlsx\",sheet_name=\"Test Group\")\n",
        "df_control = df_control_.copy()\n",
        "df_test = df_test_.copy()"
      ],
      "metadata": {
        "id": "FnEq8JaLLq8a"
      },
      "execution_count": 3,
      "outputs": []
    },
    {
      "cell_type": "markdown",
      "source": [
        "#####################################\n",
        "# GOREV 1 ADIM 2:\n",
        "* TODO: control ve test grubu verilerini analiz ediniz\n",
        "\n",
        "#####################################"
      ],
      "metadata": {
        "id": "ub5qUtowL3pv"
      }
    },
    {
      "cell_type": "markdown",
      "source": [
        "## ---- control set ----"
      ],
      "metadata": {
        "id": "L4fC-LkiL9U0"
      }
    },
    {
      "cell_type": "code",
      "source": [
        "df_control.head()"
      ],
      "metadata": {
        "colab": {
          "base_uri": "https://localhost:8080/",
          "height": 206
        },
        "id": "sWikNnwpMB-t",
        "outputId": "288ae973-bb84-4a84-95d8-1dee5436ea51"
      },
      "execution_count": 5,
      "outputs": [
        {
          "output_type": "execute_result",
          "data": {
            "text/plain": [
              "      Impression        Click    Purchase      Earning\n",
              "0   82529.459271  6090.077317  665.211255  2311.277143\n",
              "1   98050.451926  3382.861786  315.084895  1742.806855\n",
              "2   82696.023549  4167.965750  458.083738  1797.827447\n",
              "3  109914.400398  4910.882240  487.090773  1696.229178\n",
              "4  108457.762630  5987.655811  441.034050  1543.720179"
            ],
            "text/html": [
              "\n",
              "  <div id=\"df-61a54079-dd63-4dd9-8aae-c4af417db802\">\n",
              "    <div class=\"colab-df-container\">\n",
              "      <div>\n",
              "<style scoped>\n",
              "    .dataframe tbody tr th:only-of-type {\n",
              "        vertical-align: middle;\n",
              "    }\n",
              "\n",
              "    .dataframe tbody tr th {\n",
              "        vertical-align: top;\n",
              "    }\n",
              "\n",
              "    .dataframe thead th {\n",
              "        text-align: right;\n",
              "    }\n",
              "</style>\n",
              "<table border=\"1\" class=\"dataframe\">\n",
              "  <thead>\n",
              "    <tr style=\"text-align: right;\">\n",
              "      <th></th>\n",
              "      <th>Impression</th>\n",
              "      <th>Click</th>\n",
              "      <th>Purchase</th>\n",
              "      <th>Earning</th>\n",
              "    </tr>\n",
              "  </thead>\n",
              "  <tbody>\n",
              "    <tr>\n",
              "      <th>0</th>\n",
              "      <td>82529.459271</td>\n",
              "      <td>6090.077317</td>\n",
              "      <td>665.211255</td>\n",
              "      <td>2311.277143</td>\n",
              "    </tr>\n",
              "    <tr>\n",
              "      <th>1</th>\n",
              "      <td>98050.451926</td>\n",
              "      <td>3382.861786</td>\n",
              "      <td>315.084895</td>\n",
              "      <td>1742.806855</td>\n",
              "    </tr>\n",
              "    <tr>\n",
              "      <th>2</th>\n",
              "      <td>82696.023549</td>\n",
              "      <td>4167.965750</td>\n",
              "      <td>458.083738</td>\n",
              "      <td>1797.827447</td>\n",
              "    </tr>\n",
              "    <tr>\n",
              "      <th>3</th>\n",
              "      <td>109914.400398</td>\n",
              "      <td>4910.882240</td>\n",
              "      <td>487.090773</td>\n",
              "      <td>1696.229178</td>\n",
              "    </tr>\n",
              "    <tr>\n",
              "      <th>4</th>\n",
              "      <td>108457.762630</td>\n",
              "      <td>5987.655811</td>\n",
              "      <td>441.034050</td>\n",
              "      <td>1543.720179</td>\n",
              "    </tr>\n",
              "  </tbody>\n",
              "</table>\n",
              "</div>\n",
              "      <button class=\"colab-df-convert\" onclick=\"convertToInteractive('df-61a54079-dd63-4dd9-8aae-c4af417db802')\"\n",
              "              title=\"Convert this dataframe to an interactive table.\"\n",
              "              style=\"display:none;\">\n",
              "        \n",
              "  <svg xmlns=\"http://www.w3.org/2000/svg\" height=\"24px\"viewBox=\"0 0 24 24\"\n",
              "       width=\"24px\">\n",
              "    <path d=\"M0 0h24v24H0V0z\" fill=\"none\"/>\n",
              "    <path d=\"M18.56 5.44l.94 2.06.94-2.06 2.06-.94-2.06-.94-.94-2.06-.94 2.06-2.06.94zm-11 1L8.5 8.5l.94-2.06 2.06-.94-2.06-.94L8.5 2.5l-.94 2.06-2.06.94zm10 10l.94 2.06.94-2.06 2.06-.94-2.06-.94-.94-2.06-.94 2.06-2.06.94z\"/><path d=\"M17.41 7.96l-1.37-1.37c-.4-.4-.92-.59-1.43-.59-.52 0-1.04.2-1.43.59L10.3 9.45l-7.72 7.72c-.78.78-.78 2.05 0 2.83L4 21.41c.39.39.9.59 1.41.59.51 0 1.02-.2 1.41-.59l7.78-7.78 2.81-2.81c.8-.78.8-2.07 0-2.86zM5.41 20L4 18.59l7.72-7.72 1.47 1.35L5.41 20z\"/>\n",
              "  </svg>\n",
              "      </button>\n",
              "      \n",
              "  <style>\n",
              "    .colab-df-container {\n",
              "      display:flex;\n",
              "      flex-wrap:wrap;\n",
              "      gap: 12px;\n",
              "    }\n",
              "\n",
              "    .colab-df-convert {\n",
              "      background-color: #E8F0FE;\n",
              "      border: none;\n",
              "      border-radius: 50%;\n",
              "      cursor: pointer;\n",
              "      display: none;\n",
              "      fill: #1967D2;\n",
              "      height: 32px;\n",
              "      padding: 0 0 0 0;\n",
              "      width: 32px;\n",
              "    }\n",
              "\n",
              "    .colab-df-convert:hover {\n",
              "      background-color: #E2EBFA;\n",
              "      box-shadow: 0px 1px 2px rgba(60, 64, 67, 0.3), 0px 1px 3px 1px rgba(60, 64, 67, 0.15);\n",
              "      fill: #174EA6;\n",
              "    }\n",
              "\n",
              "    [theme=dark] .colab-df-convert {\n",
              "      background-color: #3B4455;\n",
              "      fill: #D2E3FC;\n",
              "    }\n",
              "\n",
              "    [theme=dark] .colab-df-convert:hover {\n",
              "      background-color: #434B5C;\n",
              "      box-shadow: 0px 1px 3px 1px rgba(0, 0, 0, 0.15);\n",
              "      filter: drop-shadow(0px 1px 2px rgba(0, 0, 0, 0.3));\n",
              "      fill: #FFFFFF;\n",
              "    }\n",
              "  </style>\n",
              "\n",
              "      <script>\n",
              "        const buttonEl =\n",
              "          document.querySelector('#df-61a54079-dd63-4dd9-8aae-c4af417db802 button.colab-df-convert');\n",
              "        buttonEl.style.display =\n",
              "          google.colab.kernel.accessAllowed ? 'block' : 'none';\n",
              "\n",
              "        async function convertToInteractive(key) {\n",
              "          const element = document.querySelector('#df-61a54079-dd63-4dd9-8aae-c4af417db802');\n",
              "          const dataTable =\n",
              "            await google.colab.kernel.invokeFunction('convertToInteractive',\n",
              "                                                     [key], {});\n",
              "          if (!dataTable) return;\n",
              "\n",
              "          const docLinkHtml = 'Like what you see? Visit the ' +\n",
              "            '<a target=\"_blank\" href=https://colab.research.google.com/notebooks/data_table.ipynb>data table notebook</a>'\n",
              "            + ' to learn more about interactive tables.';\n",
              "          element.innerHTML = '';\n",
              "          dataTable['output_type'] = 'display_data';\n",
              "          await google.colab.output.renderOutput(dataTable, element);\n",
              "          const docLink = document.createElement('div');\n",
              "          docLink.innerHTML = docLinkHtml;\n",
              "          element.appendChild(docLink);\n",
              "        }\n",
              "      </script>\n",
              "    </div>\n",
              "  </div>\n",
              "  "
            ]
          },
          "metadata": {},
          "execution_count": 5
        }
      ]
    },
    {
      "cell_type": "code",
      "source": [
        "df_control.info()"
      ],
      "metadata": {
        "colab": {
          "base_uri": "https://localhost:8080/"
        },
        "id": "m0KqJG5fMFdf",
        "outputId": "8deb7c3c-2a4c-41d8-d72a-d3fd5955ccb3"
      },
      "execution_count": 6,
      "outputs": [
        {
          "output_type": "stream",
          "name": "stdout",
          "text": [
            "<class 'pandas.core.frame.DataFrame'>\n",
            "RangeIndex: 40 entries, 0 to 39\n",
            "Data columns (total 4 columns):\n",
            " #   Column      Non-Null Count  Dtype  \n",
            "---  ------      --------------  -----  \n",
            " 0   Impression  40 non-null     float64\n",
            " 1   Click       40 non-null     float64\n",
            " 2   Purchase    40 non-null     float64\n",
            " 3   Earning     40 non-null     float64\n",
            "dtypes: float64(4)\n",
            "memory usage: 1.4 KB\n"
          ]
        }
      ]
    },
    {
      "cell_type": "code",
      "source": [
        "df_control.describe().T"
      ],
      "metadata": {
        "colab": {
          "base_uri": "https://localhost:8080/",
          "height": 175
        },
        "id": "8GOHzdwHMH6q",
        "outputId": "cc2d7bc6-2c21-4872-b1f3-2c0281636d66"
      },
      "execution_count": 7,
      "outputs": [
        {
          "output_type": "execute_result",
          "data": {
            "text/plain": [
              "            count           mean           std           min           25%  \\\n",
              "Impression   40.0  101711.449068  20302.157862  45475.942965  85726.690349   \n",
              "Click        40.0    5100.657373   1329.985498   2189.753157   4124.304129   \n",
              "Purchase     40.0     550.894059    134.108201    267.028943    470.095533   \n",
              "Earning      40.0    1908.568300    302.917783   1253.989525   1685.847205   \n",
              "\n",
              "                     50%            75%            max  \n",
              "Impression  99790.701078  115212.816543  147539.336329  \n",
              "Click        5001.220602    5923.803596    7959.125069  \n",
              "Purchase      531.206307     637.957088     801.795020  \n",
              "Earning      1975.160522    2119.802784    2497.295218  "
            ],
            "text/html": [
              "\n",
              "  <div id=\"df-8f8960f2-17b2-4d95-a0bf-ab59d1146f5d\">\n",
              "    <div class=\"colab-df-container\">\n",
              "      <div>\n",
              "<style scoped>\n",
              "    .dataframe tbody tr th:only-of-type {\n",
              "        vertical-align: middle;\n",
              "    }\n",
              "\n",
              "    .dataframe tbody tr th {\n",
              "        vertical-align: top;\n",
              "    }\n",
              "\n",
              "    .dataframe thead th {\n",
              "        text-align: right;\n",
              "    }\n",
              "</style>\n",
              "<table border=\"1\" class=\"dataframe\">\n",
              "  <thead>\n",
              "    <tr style=\"text-align: right;\">\n",
              "      <th></th>\n",
              "      <th>count</th>\n",
              "      <th>mean</th>\n",
              "      <th>std</th>\n",
              "      <th>min</th>\n",
              "      <th>25%</th>\n",
              "      <th>50%</th>\n",
              "      <th>75%</th>\n",
              "      <th>max</th>\n",
              "    </tr>\n",
              "  </thead>\n",
              "  <tbody>\n",
              "    <tr>\n",
              "      <th>Impression</th>\n",
              "      <td>40.0</td>\n",
              "      <td>101711.449068</td>\n",
              "      <td>20302.157862</td>\n",
              "      <td>45475.942965</td>\n",
              "      <td>85726.690349</td>\n",
              "      <td>99790.701078</td>\n",
              "      <td>115212.816543</td>\n",
              "      <td>147539.336329</td>\n",
              "    </tr>\n",
              "    <tr>\n",
              "      <th>Click</th>\n",
              "      <td>40.0</td>\n",
              "      <td>5100.657373</td>\n",
              "      <td>1329.985498</td>\n",
              "      <td>2189.753157</td>\n",
              "      <td>4124.304129</td>\n",
              "      <td>5001.220602</td>\n",
              "      <td>5923.803596</td>\n",
              "      <td>7959.125069</td>\n",
              "    </tr>\n",
              "    <tr>\n",
              "      <th>Purchase</th>\n",
              "      <td>40.0</td>\n",
              "      <td>550.894059</td>\n",
              "      <td>134.108201</td>\n",
              "      <td>267.028943</td>\n",
              "      <td>470.095533</td>\n",
              "      <td>531.206307</td>\n",
              "      <td>637.957088</td>\n",
              "      <td>801.795020</td>\n",
              "    </tr>\n",
              "    <tr>\n",
              "      <th>Earning</th>\n",
              "      <td>40.0</td>\n",
              "      <td>1908.568300</td>\n",
              "      <td>302.917783</td>\n",
              "      <td>1253.989525</td>\n",
              "      <td>1685.847205</td>\n",
              "      <td>1975.160522</td>\n",
              "      <td>2119.802784</td>\n",
              "      <td>2497.295218</td>\n",
              "    </tr>\n",
              "  </tbody>\n",
              "</table>\n",
              "</div>\n",
              "      <button class=\"colab-df-convert\" onclick=\"convertToInteractive('df-8f8960f2-17b2-4d95-a0bf-ab59d1146f5d')\"\n",
              "              title=\"Convert this dataframe to an interactive table.\"\n",
              "              style=\"display:none;\">\n",
              "        \n",
              "  <svg xmlns=\"http://www.w3.org/2000/svg\" height=\"24px\"viewBox=\"0 0 24 24\"\n",
              "       width=\"24px\">\n",
              "    <path d=\"M0 0h24v24H0V0z\" fill=\"none\"/>\n",
              "    <path d=\"M18.56 5.44l.94 2.06.94-2.06 2.06-.94-2.06-.94-.94-2.06-.94 2.06-2.06.94zm-11 1L8.5 8.5l.94-2.06 2.06-.94-2.06-.94L8.5 2.5l-.94 2.06-2.06.94zm10 10l.94 2.06.94-2.06 2.06-.94-2.06-.94-.94-2.06-.94 2.06-2.06.94z\"/><path d=\"M17.41 7.96l-1.37-1.37c-.4-.4-.92-.59-1.43-.59-.52 0-1.04.2-1.43.59L10.3 9.45l-7.72 7.72c-.78.78-.78 2.05 0 2.83L4 21.41c.39.39.9.59 1.41.59.51 0 1.02-.2 1.41-.59l7.78-7.78 2.81-2.81c.8-.78.8-2.07 0-2.86zM5.41 20L4 18.59l7.72-7.72 1.47 1.35L5.41 20z\"/>\n",
              "  </svg>\n",
              "      </button>\n",
              "      \n",
              "  <style>\n",
              "    .colab-df-container {\n",
              "      display:flex;\n",
              "      flex-wrap:wrap;\n",
              "      gap: 12px;\n",
              "    }\n",
              "\n",
              "    .colab-df-convert {\n",
              "      background-color: #E8F0FE;\n",
              "      border: none;\n",
              "      border-radius: 50%;\n",
              "      cursor: pointer;\n",
              "      display: none;\n",
              "      fill: #1967D2;\n",
              "      height: 32px;\n",
              "      padding: 0 0 0 0;\n",
              "      width: 32px;\n",
              "    }\n",
              "\n",
              "    .colab-df-convert:hover {\n",
              "      background-color: #E2EBFA;\n",
              "      box-shadow: 0px 1px 2px rgba(60, 64, 67, 0.3), 0px 1px 3px 1px rgba(60, 64, 67, 0.15);\n",
              "      fill: #174EA6;\n",
              "    }\n",
              "\n",
              "    [theme=dark] .colab-df-convert {\n",
              "      background-color: #3B4455;\n",
              "      fill: #D2E3FC;\n",
              "    }\n",
              "\n",
              "    [theme=dark] .colab-df-convert:hover {\n",
              "      background-color: #434B5C;\n",
              "      box-shadow: 0px 1px 3px 1px rgba(0, 0, 0, 0.15);\n",
              "      filter: drop-shadow(0px 1px 2px rgba(0, 0, 0, 0.3));\n",
              "      fill: #FFFFFF;\n",
              "    }\n",
              "  </style>\n",
              "\n",
              "      <script>\n",
              "        const buttonEl =\n",
              "          document.querySelector('#df-8f8960f2-17b2-4d95-a0bf-ab59d1146f5d button.colab-df-convert');\n",
              "        buttonEl.style.display =\n",
              "          google.colab.kernel.accessAllowed ? 'block' : 'none';\n",
              "\n",
              "        async function convertToInteractive(key) {\n",
              "          const element = document.querySelector('#df-8f8960f2-17b2-4d95-a0bf-ab59d1146f5d');\n",
              "          const dataTable =\n",
              "            await google.colab.kernel.invokeFunction('convertToInteractive',\n",
              "                                                     [key], {});\n",
              "          if (!dataTable) return;\n",
              "\n",
              "          const docLinkHtml = 'Like what you see? Visit the ' +\n",
              "            '<a target=\"_blank\" href=https://colab.research.google.com/notebooks/data_table.ipynb>data table notebook</a>'\n",
              "            + ' to learn more about interactive tables.';\n",
              "          element.innerHTML = '';\n",
              "          dataTable['output_type'] = 'display_data';\n",
              "          await google.colab.output.renderOutput(dataTable, element);\n",
              "          const docLink = document.createElement('div');\n",
              "          docLink.innerHTML = docLinkHtml;\n",
              "          element.appendChild(docLink);\n",
              "        }\n",
              "      </script>\n",
              "    </div>\n",
              "  </div>\n",
              "  "
            ]
          },
          "metadata": {},
          "execution_count": 7
        }
      ]
    },
    {
      "cell_type": "code",
      "source": [
        "df_control.shape"
      ],
      "metadata": {
        "colab": {
          "base_uri": "https://localhost:8080/"
        },
        "id": "MFzUVRXEMKyG",
        "outputId": "f7d2628e-d382-4ab1-ed03-e9dcd49b9d63"
      },
      "execution_count": 8,
      "outputs": [
        {
          "output_type": "execute_result",
          "data": {
            "text/plain": [
              "(40, 4)"
            ]
          },
          "metadata": {},
          "execution_count": 8
        }
      ]
    },
    {
      "cell_type": "markdown",
      "source": [
        "## ---- test set ----"
      ],
      "metadata": {
        "id": "CwNrLpfIL9Qu"
      }
    },
    {
      "cell_type": "code",
      "source": [
        "df_test.head()"
      ],
      "metadata": {
        "colab": {
          "base_uri": "https://localhost:8080/",
          "height": 206
        },
        "id": "T1ChZE1aMP8p",
        "outputId": "2df17f50-e2c5-4351-acfc-cbcecc7199aa"
      },
      "execution_count": 9,
      "outputs": [
        {
          "output_type": "execute_result",
          "data": {
            "text/plain": [
              "      Impression        Click    Purchase      Earning\n",
              "0  120103.503796  3216.547958  702.160346  1939.611243\n",
              "1  134775.943363  3635.082422  834.054286  2929.405820\n",
              "2  107806.620788  3057.143560  422.934258  2526.244877\n",
              "3  116445.275526  4650.473911  429.033535  2281.428574\n",
              "4  145082.516838  5201.387724  749.860442  2781.697521"
            ],
            "text/html": [
              "\n",
              "  <div id=\"df-6d499f5b-4483-4959-957c-bd8c2ae03ae5\">\n",
              "    <div class=\"colab-df-container\">\n",
              "      <div>\n",
              "<style scoped>\n",
              "    .dataframe tbody tr th:only-of-type {\n",
              "        vertical-align: middle;\n",
              "    }\n",
              "\n",
              "    .dataframe tbody tr th {\n",
              "        vertical-align: top;\n",
              "    }\n",
              "\n",
              "    .dataframe thead th {\n",
              "        text-align: right;\n",
              "    }\n",
              "</style>\n",
              "<table border=\"1\" class=\"dataframe\">\n",
              "  <thead>\n",
              "    <tr style=\"text-align: right;\">\n",
              "      <th></th>\n",
              "      <th>Impression</th>\n",
              "      <th>Click</th>\n",
              "      <th>Purchase</th>\n",
              "      <th>Earning</th>\n",
              "    </tr>\n",
              "  </thead>\n",
              "  <tbody>\n",
              "    <tr>\n",
              "      <th>0</th>\n",
              "      <td>120103.503796</td>\n",
              "      <td>3216.547958</td>\n",
              "      <td>702.160346</td>\n",
              "      <td>1939.611243</td>\n",
              "    </tr>\n",
              "    <tr>\n",
              "      <th>1</th>\n",
              "      <td>134775.943363</td>\n",
              "      <td>3635.082422</td>\n",
              "      <td>834.054286</td>\n",
              "      <td>2929.405820</td>\n",
              "    </tr>\n",
              "    <tr>\n",
              "      <th>2</th>\n",
              "      <td>107806.620788</td>\n",
              "      <td>3057.143560</td>\n",
              "      <td>422.934258</td>\n",
              "      <td>2526.244877</td>\n",
              "    </tr>\n",
              "    <tr>\n",
              "      <th>3</th>\n",
              "      <td>116445.275526</td>\n",
              "      <td>4650.473911</td>\n",
              "      <td>429.033535</td>\n",
              "      <td>2281.428574</td>\n",
              "    </tr>\n",
              "    <tr>\n",
              "      <th>4</th>\n",
              "      <td>145082.516838</td>\n",
              "      <td>5201.387724</td>\n",
              "      <td>749.860442</td>\n",
              "      <td>2781.697521</td>\n",
              "    </tr>\n",
              "  </tbody>\n",
              "</table>\n",
              "</div>\n",
              "      <button class=\"colab-df-convert\" onclick=\"convertToInteractive('df-6d499f5b-4483-4959-957c-bd8c2ae03ae5')\"\n",
              "              title=\"Convert this dataframe to an interactive table.\"\n",
              "              style=\"display:none;\">\n",
              "        \n",
              "  <svg xmlns=\"http://www.w3.org/2000/svg\" height=\"24px\"viewBox=\"0 0 24 24\"\n",
              "       width=\"24px\">\n",
              "    <path d=\"M0 0h24v24H0V0z\" fill=\"none\"/>\n",
              "    <path d=\"M18.56 5.44l.94 2.06.94-2.06 2.06-.94-2.06-.94-.94-2.06-.94 2.06-2.06.94zm-11 1L8.5 8.5l.94-2.06 2.06-.94-2.06-.94L8.5 2.5l-.94 2.06-2.06.94zm10 10l.94 2.06.94-2.06 2.06-.94-2.06-.94-.94-2.06-.94 2.06-2.06.94z\"/><path d=\"M17.41 7.96l-1.37-1.37c-.4-.4-.92-.59-1.43-.59-.52 0-1.04.2-1.43.59L10.3 9.45l-7.72 7.72c-.78.78-.78 2.05 0 2.83L4 21.41c.39.39.9.59 1.41.59.51 0 1.02-.2 1.41-.59l7.78-7.78 2.81-2.81c.8-.78.8-2.07 0-2.86zM5.41 20L4 18.59l7.72-7.72 1.47 1.35L5.41 20z\"/>\n",
              "  </svg>\n",
              "      </button>\n",
              "      \n",
              "  <style>\n",
              "    .colab-df-container {\n",
              "      display:flex;\n",
              "      flex-wrap:wrap;\n",
              "      gap: 12px;\n",
              "    }\n",
              "\n",
              "    .colab-df-convert {\n",
              "      background-color: #E8F0FE;\n",
              "      border: none;\n",
              "      border-radius: 50%;\n",
              "      cursor: pointer;\n",
              "      display: none;\n",
              "      fill: #1967D2;\n",
              "      height: 32px;\n",
              "      padding: 0 0 0 0;\n",
              "      width: 32px;\n",
              "    }\n",
              "\n",
              "    .colab-df-convert:hover {\n",
              "      background-color: #E2EBFA;\n",
              "      box-shadow: 0px 1px 2px rgba(60, 64, 67, 0.3), 0px 1px 3px 1px rgba(60, 64, 67, 0.15);\n",
              "      fill: #174EA6;\n",
              "    }\n",
              "\n",
              "    [theme=dark] .colab-df-convert {\n",
              "      background-color: #3B4455;\n",
              "      fill: #D2E3FC;\n",
              "    }\n",
              "\n",
              "    [theme=dark] .colab-df-convert:hover {\n",
              "      background-color: #434B5C;\n",
              "      box-shadow: 0px 1px 3px 1px rgba(0, 0, 0, 0.15);\n",
              "      filter: drop-shadow(0px 1px 2px rgba(0, 0, 0, 0.3));\n",
              "      fill: #FFFFFF;\n",
              "    }\n",
              "  </style>\n",
              "\n",
              "      <script>\n",
              "        const buttonEl =\n",
              "          document.querySelector('#df-6d499f5b-4483-4959-957c-bd8c2ae03ae5 button.colab-df-convert');\n",
              "        buttonEl.style.display =\n",
              "          google.colab.kernel.accessAllowed ? 'block' : 'none';\n",
              "\n",
              "        async function convertToInteractive(key) {\n",
              "          const element = document.querySelector('#df-6d499f5b-4483-4959-957c-bd8c2ae03ae5');\n",
              "          const dataTable =\n",
              "            await google.colab.kernel.invokeFunction('convertToInteractive',\n",
              "                                                     [key], {});\n",
              "          if (!dataTable) return;\n",
              "\n",
              "          const docLinkHtml = 'Like what you see? Visit the ' +\n",
              "            '<a target=\"_blank\" href=https://colab.research.google.com/notebooks/data_table.ipynb>data table notebook</a>'\n",
              "            + ' to learn more about interactive tables.';\n",
              "          element.innerHTML = '';\n",
              "          dataTable['output_type'] = 'display_data';\n",
              "          await google.colab.output.renderOutput(dataTable, element);\n",
              "          const docLink = document.createElement('div');\n",
              "          docLink.innerHTML = docLinkHtml;\n",
              "          element.appendChild(docLink);\n",
              "        }\n",
              "      </script>\n",
              "    </div>\n",
              "  </div>\n",
              "  "
            ]
          },
          "metadata": {},
          "execution_count": 9
        }
      ]
    },
    {
      "cell_type": "code",
      "source": [
        "df_test.describe().T"
      ],
      "metadata": {
        "colab": {
          "base_uri": "https://localhost:8080/",
          "height": 175
        },
        "id": "nGTu9i-nMTRp",
        "outputId": "dc0f9307-7de3-41d6-eac8-16b763b0a282"
      },
      "execution_count": 10,
      "outputs": [
        {
          "output_type": "execute_result",
          "data": {
            "text/plain": [
              "            count           mean           std           min            25%  \\\n",
              "Impression   40.0  120512.411758  18807.448712  79033.834921  112691.970770   \n",
              "Click        40.0    3967.549761    923.095073   1836.629861    3376.819024   \n",
              "Purchase     40.0     582.106097    161.152513    311.629515     444.626828   \n",
              "Earning      40.0    2514.890733    282.730852   1939.611243    2280.537426   \n",
              "\n",
              "                      50%            75%            max  \n",
              "Impression  119291.300775  132050.578933  158605.920483  \n",
              "Click         3931.359804    4660.497911    6019.695079  \n",
              "Purchase       551.355732     699.862360     889.910460  \n",
              "Earning       2544.666107    2761.545405    3171.489708  "
            ],
            "text/html": [
              "\n",
              "  <div id=\"df-8dbdb3d4-2281-42c1-b691-cf639bec55fa\">\n",
              "    <div class=\"colab-df-container\">\n",
              "      <div>\n",
              "<style scoped>\n",
              "    .dataframe tbody tr th:only-of-type {\n",
              "        vertical-align: middle;\n",
              "    }\n",
              "\n",
              "    .dataframe tbody tr th {\n",
              "        vertical-align: top;\n",
              "    }\n",
              "\n",
              "    .dataframe thead th {\n",
              "        text-align: right;\n",
              "    }\n",
              "</style>\n",
              "<table border=\"1\" class=\"dataframe\">\n",
              "  <thead>\n",
              "    <tr style=\"text-align: right;\">\n",
              "      <th></th>\n",
              "      <th>count</th>\n",
              "      <th>mean</th>\n",
              "      <th>std</th>\n",
              "      <th>min</th>\n",
              "      <th>25%</th>\n",
              "      <th>50%</th>\n",
              "      <th>75%</th>\n",
              "      <th>max</th>\n",
              "    </tr>\n",
              "  </thead>\n",
              "  <tbody>\n",
              "    <tr>\n",
              "      <th>Impression</th>\n",
              "      <td>40.0</td>\n",
              "      <td>120512.411758</td>\n",
              "      <td>18807.448712</td>\n",
              "      <td>79033.834921</td>\n",
              "      <td>112691.970770</td>\n",
              "      <td>119291.300775</td>\n",
              "      <td>132050.578933</td>\n",
              "      <td>158605.920483</td>\n",
              "    </tr>\n",
              "    <tr>\n",
              "      <th>Click</th>\n",
              "      <td>40.0</td>\n",
              "      <td>3967.549761</td>\n",
              "      <td>923.095073</td>\n",
              "      <td>1836.629861</td>\n",
              "      <td>3376.819024</td>\n",
              "      <td>3931.359804</td>\n",
              "      <td>4660.497911</td>\n",
              "      <td>6019.695079</td>\n",
              "    </tr>\n",
              "    <tr>\n",
              "      <th>Purchase</th>\n",
              "      <td>40.0</td>\n",
              "      <td>582.106097</td>\n",
              "      <td>161.152513</td>\n",
              "      <td>311.629515</td>\n",
              "      <td>444.626828</td>\n",
              "      <td>551.355732</td>\n",
              "      <td>699.862360</td>\n",
              "      <td>889.910460</td>\n",
              "    </tr>\n",
              "    <tr>\n",
              "      <th>Earning</th>\n",
              "      <td>40.0</td>\n",
              "      <td>2514.890733</td>\n",
              "      <td>282.730852</td>\n",
              "      <td>1939.611243</td>\n",
              "      <td>2280.537426</td>\n",
              "      <td>2544.666107</td>\n",
              "      <td>2761.545405</td>\n",
              "      <td>3171.489708</td>\n",
              "    </tr>\n",
              "  </tbody>\n",
              "</table>\n",
              "</div>\n",
              "      <button class=\"colab-df-convert\" onclick=\"convertToInteractive('df-8dbdb3d4-2281-42c1-b691-cf639bec55fa')\"\n",
              "              title=\"Convert this dataframe to an interactive table.\"\n",
              "              style=\"display:none;\">\n",
              "        \n",
              "  <svg xmlns=\"http://www.w3.org/2000/svg\" height=\"24px\"viewBox=\"0 0 24 24\"\n",
              "       width=\"24px\">\n",
              "    <path d=\"M0 0h24v24H0V0z\" fill=\"none\"/>\n",
              "    <path d=\"M18.56 5.44l.94 2.06.94-2.06 2.06-.94-2.06-.94-.94-2.06-.94 2.06-2.06.94zm-11 1L8.5 8.5l.94-2.06 2.06-.94-2.06-.94L8.5 2.5l-.94 2.06-2.06.94zm10 10l.94 2.06.94-2.06 2.06-.94-2.06-.94-.94-2.06-.94 2.06-2.06.94z\"/><path d=\"M17.41 7.96l-1.37-1.37c-.4-.4-.92-.59-1.43-.59-.52 0-1.04.2-1.43.59L10.3 9.45l-7.72 7.72c-.78.78-.78 2.05 0 2.83L4 21.41c.39.39.9.59 1.41.59.51 0 1.02-.2 1.41-.59l7.78-7.78 2.81-2.81c.8-.78.8-2.07 0-2.86zM5.41 20L4 18.59l7.72-7.72 1.47 1.35L5.41 20z\"/>\n",
              "  </svg>\n",
              "      </button>\n",
              "      \n",
              "  <style>\n",
              "    .colab-df-container {\n",
              "      display:flex;\n",
              "      flex-wrap:wrap;\n",
              "      gap: 12px;\n",
              "    }\n",
              "\n",
              "    .colab-df-convert {\n",
              "      background-color: #E8F0FE;\n",
              "      border: none;\n",
              "      border-radius: 50%;\n",
              "      cursor: pointer;\n",
              "      display: none;\n",
              "      fill: #1967D2;\n",
              "      height: 32px;\n",
              "      padding: 0 0 0 0;\n",
              "      width: 32px;\n",
              "    }\n",
              "\n",
              "    .colab-df-convert:hover {\n",
              "      background-color: #E2EBFA;\n",
              "      box-shadow: 0px 1px 2px rgba(60, 64, 67, 0.3), 0px 1px 3px 1px rgba(60, 64, 67, 0.15);\n",
              "      fill: #174EA6;\n",
              "    }\n",
              "\n",
              "    [theme=dark] .colab-df-convert {\n",
              "      background-color: #3B4455;\n",
              "      fill: #D2E3FC;\n",
              "    }\n",
              "\n",
              "    [theme=dark] .colab-df-convert:hover {\n",
              "      background-color: #434B5C;\n",
              "      box-shadow: 0px 1px 3px 1px rgba(0, 0, 0, 0.15);\n",
              "      filter: drop-shadow(0px 1px 2px rgba(0, 0, 0, 0.3));\n",
              "      fill: #FFFFFF;\n",
              "    }\n",
              "  </style>\n",
              "\n",
              "      <script>\n",
              "        const buttonEl =\n",
              "          document.querySelector('#df-8dbdb3d4-2281-42c1-b691-cf639bec55fa button.colab-df-convert');\n",
              "        buttonEl.style.display =\n",
              "          google.colab.kernel.accessAllowed ? 'block' : 'none';\n",
              "\n",
              "        async function convertToInteractive(key) {\n",
              "          const element = document.querySelector('#df-8dbdb3d4-2281-42c1-b691-cf639bec55fa');\n",
              "          const dataTable =\n",
              "            await google.colab.kernel.invokeFunction('convertToInteractive',\n",
              "                                                     [key], {});\n",
              "          if (!dataTable) return;\n",
              "\n",
              "          const docLinkHtml = 'Like what you see? Visit the ' +\n",
              "            '<a target=\"_blank\" href=https://colab.research.google.com/notebooks/data_table.ipynb>data table notebook</a>'\n",
              "            + ' to learn more about interactive tables.';\n",
              "          element.innerHTML = '';\n",
              "          dataTable['output_type'] = 'display_data';\n",
              "          await google.colab.output.renderOutput(dataTable, element);\n",
              "          const docLink = document.createElement('div');\n",
              "          docLink.innerHTML = docLinkHtml;\n",
              "          element.appendChild(docLink);\n",
              "        }\n",
              "      </script>\n",
              "    </div>\n",
              "  </div>\n",
              "  "
            ]
          },
          "metadata": {},
          "execution_count": 10
        }
      ]
    },
    {
      "cell_type": "code",
      "source": [
        "df_test.info()"
      ],
      "metadata": {
        "colab": {
          "base_uri": "https://localhost:8080/"
        },
        "id": "E1bz9Fp4MV3k",
        "outputId": "f4c98358-3011-4a1a-9659-4fd90ab4adcb"
      },
      "execution_count": 11,
      "outputs": [
        {
          "output_type": "stream",
          "name": "stdout",
          "text": [
            "<class 'pandas.core.frame.DataFrame'>\n",
            "RangeIndex: 40 entries, 0 to 39\n",
            "Data columns (total 4 columns):\n",
            " #   Column      Non-Null Count  Dtype  \n",
            "---  ------      --------------  -----  \n",
            " 0   Impression  40 non-null     float64\n",
            " 1   Click       40 non-null     float64\n",
            " 2   Purchase    40 non-null     float64\n",
            " 3   Earning     40 non-null     float64\n",
            "dtypes: float64(4)\n",
            "memory usage: 1.4 KB\n"
          ]
        }
      ]
    },
    {
      "cell_type": "code",
      "source": [
        "df_test.shape"
      ],
      "metadata": {
        "colab": {
          "base_uri": "https://localhost:8080/"
        },
        "id": "g6TZR7dVMX5p",
        "outputId": "7dcbbf87-e36e-464a-8870-bb0ebb1c648f"
      },
      "execution_count": 12,
      "outputs": [
        {
          "output_type": "execute_result",
          "data": {
            "text/plain": [
              "(40, 4)"
            ]
          },
          "metadata": {},
          "execution_count": 12
        }
      ]
    },
    {
      "cell_type": "markdown",
      "source": [
        "#####################################\n",
        "# GOREV 1 ADIM 3:\n",
        "* TODO: analizden sonra concat metodunu kullanarak ve control verilerini birlestiriniz\n",
        "\n",
        "#####################################"
      ],
      "metadata": {
        "id": "g1dT03gEL9ON"
      }
    },
    {
      "cell_type": "markdown",
      "source": [
        "## ---- pd.series'e cevirme islemi"
      ],
      "metadata": {
        "id": "kz76kdDJMiJS"
      }
    },
    {
      "cell_type": "code",
      "source": [
        "df_concat = pd.concat([df_control,df_test],keys=[\"control\",\"test\"])"
      ],
      "metadata": {
        "id": "kw-KDkX8Metk"
      },
      "execution_count": 13,
      "outputs": []
    },
    {
      "cell_type": "code",
      "source": [
        "df_concat.reset_index(inplace=True)"
      ],
      "metadata": {
        "id": "CAlFyCPAMnsE"
      },
      "execution_count": 14,
      "outputs": []
    },
    {
      "cell_type": "code",
      "source": [
        "df_concat.drop(\"level_1\",axis=1,inplace=True)"
      ],
      "metadata": {
        "id": "4o1JE4l6Mqin"
      },
      "execution_count": 15,
      "outputs": []
    },
    {
      "cell_type": "code",
      "source": [
        "df_concat.columns = [\"dtype\",\"impression\",\"click\",\"purchase\",\"earning\"]"
      ],
      "metadata": {
        "id": "Dv13HUcLMs--"
      },
      "execution_count": 16,
      "outputs": []
    },
    {
      "cell_type": "code",
      "source": [
        "df_concat.sample(10)"
      ],
      "metadata": {
        "colab": {
          "base_uri": "https://localhost:8080/",
          "height": 363
        },
        "id": "Z0cocUh-Mv7J",
        "outputId": "cf23fbd5-70ee-4d46-b163-f8518a8b0d05"
      },
      "execution_count": 17,
      "outputs": [
        {
          "output_type": "execute_result",
          "data": {
            "text/plain": [
              "      dtype     impression        click    purchase      earning\n",
              "18  control   82067.899936  6609.183433  267.028943  1791.798984\n",
              "37  control  123678.934234  3649.073787  476.168128  2187.721217\n",
              "32  control  101530.950229  5626.901227  555.002024  2090.371280\n",
              "17  control  147539.336329  3856.726853  329.377032  2143.589914\n",
              "15  control  101616.465549  5323.548253  801.795020  2182.161708\n",
              "65     test  113732.668458  3251.849039  610.742322  2366.822411\n",
              "19  control   81872.985723  7959.125069  729.161549  1331.696457\n",
              "27  control  136171.271652  5784.321927  772.032879  1704.134541\n",
              "29  control   94923.683705  5678.981962  468.878031  1857.201862\n",
              "3   control  109914.400398  4910.882240  487.090773  1696.229178"
            ],
            "text/html": [
              "\n",
              "  <div id=\"df-0f01abf6-0089-49ea-a0ac-8b84868bc674\">\n",
              "    <div class=\"colab-df-container\">\n",
              "      <div>\n",
              "<style scoped>\n",
              "    .dataframe tbody tr th:only-of-type {\n",
              "        vertical-align: middle;\n",
              "    }\n",
              "\n",
              "    .dataframe tbody tr th {\n",
              "        vertical-align: top;\n",
              "    }\n",
              "\n",
              "    .dataframe thead th {\n",
              "        text-align: right;\n",
              "    }\n",
              "</style>\n",
              "<table border=\"1\" class=\"dataframe\">\n",
              "  <thead>\n",
              "    <tr style=\"text-align: right;\">\n",
              "      <th></th>\n",
              "      <th>dtype</th>\n",
              "      <th>impression</th>\n",
              "      <th>click</th>\n",
              "      <th>purchase</th>\n",
              "      <th>earning</th>\n",
              "    </tr>\n",
              "  </thead>\n",
              "  <tbody>\n",
              "    <tr>\n",
              "      <th>18</th>\n",
              "      <td>control</td>\n",
              "      <td>82067.899936</td>\n",
              "      <td>6609.183433</td>\n",
              "      <td>267.028943</td>\n",
              "      <td>1791.798984</td>\n",
              "    </tr>\n",
              "    <tr>\n",
              "      <th>37</th>\n",
              "      <td>control</td>\n",
              "      <td>123678.934234</td>\n",
              "      <td>3649.073787</td>\n",
              "      <td>476.168128</td>\n",
              "      <td>2187.721217</td>\n",
              "    </tr>\n",
              "    <tr>\n",
              "      <th>32</th>\n",
              "      <td>control</td>\n",
              "      <td>101530.950229</td>\n",
              "      <td>5626.901227</td>\n",
              "      <td>555.002024</td>\n",
              "      <td>2090.371280</td>\n",
              "    </tr>\n",
              "    <tr>\n",
              "      <th>17</th>\n",
              "      <td>control</td>\n",
              "      <td>147539.336329</td>\n",
              "      <td>3856.726853</td>\n",
              "      <td>329.377032</td>\n",
              "      <td>2143.589914</td>\n",
              "    </tr>\n",
              "    <tr>\n",
              "      <th>15</th>\n",
              "      <td>control</td>\n",
              "      <td>101616.465549</td>\n",
              "      <td>5323.548253</td>\n",
              "      <td>801.795020</td>\n",
              "      <td>2182.161708</td>\n",
              "    </tr>\n",
              "    <tr>\n",
              "      <th>65</th>\n",
              "      <td>test</td>\n",
              "      <td>113732.668458</td>\n",
              "      <td>3251.849039</td>\n",
              "      <td>610.742322</td>\n",
              "      <td>2366.822411</td>\n",
              "    </tr>\n",
              "    <tr>\n",
              "      <th>19</th>\n",
              "      <td>control</td>\n",
              "      <td>81872.985723</td>\n",
              "      <td>7959.125069</td>\n",
              "      <td>729.161549</td>\n",
              "      <td>1331.696457</td>\n",
              "    </tr>\n",
              "    <tr>\n",
              "      <th>27</th>\n",
              "      <td>control</td>\n",
              "      <td>136171.271652</td>\n",
              "      <td>5784.321927</td>\n",
              "      <td>772.032879</td>\n",
              "      <td>1704.134541</td>\n",
              "    </tr>\n",
              "    <tr>\n",
              "      <th>29</th>\n",
              "      <td>control</td>\n",
              "      <td>94923.683705</td>\n",
              "      <td>5678.981962</td>\n",
              "      <td>468.878031</td>\n",
              "      <td>1857.201862</td>\n",
              "    </tr>\n",
              "    <tr>\n",
              "      <th>3</th>\n",
              "      <td>control</td>\n",
              "      <td>109914.400398</td>\n",
              "      <td>4910.882240</td>\n",
              "      <td>487.090773</td>\n",
              "      <td>1696.229178</td>\n",
              "    </tr>\n",
              "  </tbody>\n",
              "</table>\n",
              "</div>\n",
              "      <button class=\"colab-df-convert\" onclick=\"convertToInteractive('df-0f01abf6-0089-49ea-a0ac-8b84868bc674')\"\n",
              "              title=\"Convert this dataframe to an interactive table.\"\n",
              "              style=\"display:none;\">\n",
              "        \n",
              "  <svg xmlns=\"http://www.w3.org/2000/svg\" height=\"24px\"viewBox=\"0 0 24 24\"\n",
              "       width=\"24px\">\n",
              "    <path d=\"M0 0h24v24H0V0z\" fill=\"none\"/>\n",
              "    <path d=\"M18.56 5.44l.94 2.06.94-2.06 2.06-.94-2.06-.94-.94-2.06-.94 2.06-2.06.94zm-11 1L8.5 8.5l.94-2.06 2.06-.94-2.06-.94L8.5 2.5l-.94 2.06-2.06.94zm10 10l.94 2.06.94-2.06 2.06-.94-2.06-.94-.94-2.06-.94 2.06-2.06.94z\"/><path d=\"M17.41 7.96l-1.37-1.37c-.4-.4-.92-.59-1.43-.59-.52 0-1.04.2-1.43.59L10.3 9.45l-7.72 7.72c-.78.78-.78 2.05 0 2.83L4 21.41c.39.39.9.59 1.41.59.51 0 1.02-.2 1.41-.59l7.78-7.78 2.81-2.81c.8-.78.8-2.07 0-2.86zM5.41 20L4 18.59l7.72-7.72 1.47 1.35L5.41 20z\"/>\n",
              "  </svg>\n",
              "      </button>\n",
              "      \n",
              "  <style>\n",
              "    .colab-df-container {\n",
              "      display:flex;\n",
              "      flex-wrap:wrap;\n",
              "      gap: 12px;\n",
              "    }\n",
              "\n",
              "    .colab-df-convert {\n",
              "      background-color: #E8F0FE;\n",
              "      border: none;\n",
              "      border-radius: 50%;\n",
              "      cursor: pointer;\n",
              "      display: none;\n",
              "      fill: #1967D2;\n",
              "      height: 32px;\n",
              "      padding: 0 0 0 0;\n",
              "      width: 32px;\n",
              "    }\n",
              "\n",
              "    .colab-df-convert:hover {\n",
              "      background-color: #E2EBFA;\n",
              "      box-shadow: 0px 1px 2px rgba(60, 64, 67, 0.3), 0px 1px 3px 1px rgba(60, 64, 67, 0.15);\n",
              "      fill: #174EA6;\n",
              "    }\n",
              "\n",
              "    [theme=dark] .colab-df-convert {\n",
              "      background-color: #3B4455;\n",
              "      fill: #D2E3FC;\n",
              "    }\n",
              "\n",
              "    [theme=dark] .colab-df-convert:hover {\n",
              "      background-color: #434B5C;\n",
              "      box-shadow: 0px 1px 3px 1px rgba(0, 0, 0, 0.15);\n",
              "      filter: drop-shadow(0px 1px 2px rgba(0, 0, 0, 0.3));\n",
              "      fill: #FFFFFF;\n",
              "    }\n",
              "  </style>\n",
              "\n",
              "      <script>\n",
              "        const buttonEl =\n",
              "          document.querySelector('#df-0f01abf6-0089-49ea-a0ac-8b84868bc674 button.colab-df-convert');\n",
              "        buttonEl.style.display =\n",
              "          google.colab.kernel.accessAllowed ? 'block' : 'none';\n",
              "\n",
              "        async function convertToInteractive(key) {\n",
              "          const element = document.querySelector('#df-0f01abf6-0089-49ea-a0ac-8b84868bc674');\n",
              "          const dataTable =\n",
              "            await google.colab.kernel.invokeFunction('convertToInteractive',\n",
              "                                                     [key], {});\n",
              "          if (!dataTable) return;\n",
              "\n",
              "          const docLinkHtml = 'Like what you see? Visit the ' +\n",
              "            '<a target=\"_blank\" href=https://colab.research.google.com/notebooks/data_table.ipynb>data table notebook</a>'\n",
              "            + ' to learn more about interactive tables.';\n",
              "          element.innerHTML = '';\n",
              "          dataTable['output_type'] = 'display_data';\n",
              "          await google.colab.output.renderOutput(dataTable, element);\n",
              "          const docLink = document.createElement('div');\n",
              "          docLink.innerHTML = docLinkHtml;\n",
              "          element.appendChild(docLink);\n",
              "        }\n",
              "      </script>\n",
              "    </div>\n",
              "  </div>\n",
              "  "
            ]
          },
          "metadata": {},
          "execution_count": 17
        }
      ]
    },
    {
      "cell_type": "markdown",
      "source": [
        "#####################################\n",
        "# GOREV 2: A/B TESTININ HIPOTEZLERININ TANIMLANMASI\n",
        "#####################################\n",
        "# GOREV 2 ADIM 1:\n",
        "* TODO: hipotezleri tanımla\n",
        "\n",
        "#####################################"
      ],
      "metadata": {
        "id": "onSv9X_JM2-k"
      }
    },
    {
      "cell_type": "markdown",
      "source": [
        "\n",
        "**oran olusturulur:** \n",
        "\n",
        "**click/impression:** reklama tiklayanlar / goruntuleyenler\n"
      ],
      "metadata": {
        "id": "JcrGBSeoM98l"
      }
    },
    {
      "cell_type": "markdown",
      "source": [
        "H0: control ve test veri seti arasında click/impression oranlari bakimindan istatistiksel olrak anlamlı bir farklılık yoktur.\n",
        "\n",
        "H1: control ve test veri seti arasında click/impression oranlari bakimindan istatistiksel olrak anlamlı bir farklılık vardir.\n",
        "\n",
        " H0: p1 = p2\n",
        " \n",
        " H1: p1 != p2"
      ],
      "metadata": {
        "id": "PBhZsm7bNGxh"
      }
    },
    {
      "cell_type": "markdown",
      "source": [
        "#####################################\n",
        "# GOREV 2 ADIM 2:\n",
        "* TODO: kontrol ve test grubu icin purchase ortalamalarini analiz edin\n",
        "\n",
        "#####################################"
      ],
      "metadata": {
        "id": "fUdAm1lVNO6L"
      }
    },
    {
      "cell_type": "code",
      "source": [
        "p = df_concat.groupby(\"dtype\").agg({\"click\":\"sum\",\n",
        "                                \"impression\":\"sum\",\n",
        "                                \"purchase\":\"mean\"})"
      ],
      "metadata": {
        "id": "AGTRjHW-NSq8"
      },
      "execution_count": 18,
      "outputs": []
    },
    {
      "cell_type": "code",
      "source": [
        "p"
      ],
      "metadata": {
        "colab": {
          "base_uri": "https://localhost:8080/",
          "height": 144
        },
        "id": "uaGn5txPNTvB",
        "outputId": "ce961064-35ed-4687-c28f-866be940118c"
      },
      "execution_count": 19,
      "outputs": [
        {
          "output_type": "execute_result",
          "data": {
            "text/plain": [
              "                 click    impression    purchase\n",
              "dtype                                           \n",
              "control  204026.294903  4.068458e+06  550.894059\n",
              "test     158701.990432  4.820496e+06  582.106097"
            ],
            "text/html": [
              "\n",
              "  <div id=\"df-91e3abb3-3c7c-4528-8137-e8b357555281\">\n",
              "    <div class=\"colab-df-container\">\n",
              "      <div>\n",
              "<style scoped>\n",
              "    .dataframe tbody tr th:only-of-type {\n",
              "        vertical-align: middle;\n",
              "    }\n",
              "\n",
              "    .dataframe tbody tr th {\n",
              "        vertical-align: top;\n",
              "    }\n",
              "\n",
              "    .dataframe thead th {\n",
              "        text-align: right;\n",
              "    }\n",
              "</style>\n",
              "<table border=\"1\" class=\"dataframe\">\n",
              "  <thead>\n",
              "    <tr style=\"text-align: right;\">\n",
              "      <th></th>\n",
              "      <th>click</th>\n",
              "      <th>impression</th>\n",
              "      <th>purchase</th>\n",
              "    </tr>\n",
              "    <tr>\n",
              "      <th>dtype</th>\n",
              "      <th></th>\n",
              "      <th></th>\n",
              "      <th></th>\n",
              "    </tr>\n",
              "  </thead>\n",
              "  <tbody>\n",
              "    <tr>\n",
              "      <th>control</th>\n",
              "      <td>204026.294903</td>\n",
              "      <td>4.068458e+06</td>\n",
              "      <td>550.894059</td>\n",
              "    </tr>\n",
              "    <tr>\n",
              "      <th>test</th>\n",
              "      <td>158701.990432</td>\n",
              "      <td>4.820496e+06</td>\n",
              "      <td>582.106097</td>\n",
              "    </tr>\n",
              "  </tbody>\n",
              "</table>\n",
              "</div>\n",
              "      <button class=\"colab-df-convert\" onclick=\"convertToInteractive('df-91e3abb3-3c7c-4528-8137-e8b357555281')\"\n",
              "              title=\"Convert this dataframe to an interactive table.\"\n",
              "              style=\"display:none;\">\n",
              "        \n",
              "  <svg xmlns=\"http://www.w3.org/2000/svg\" height=\"24px\"viewBox=\"0 0 24 24\"\n",
              "       width=\"24px\">\n",
              "    <path d=\"M0 0h24v24H0V0z\" fill=\"none\"/>\n",
              "    <path d=\"M18.56 5.44l.94 2.06.94-2.06 2.06-.94-2.06-.94-.94-2.06-.94 2.06-2.06.94zm-11 1L8.5 8.5l.94-2.06 2.06-.94-2.06-.94L8.5 2.5l-.94 2.06-2.06.94zm10 10l.94 2.06.94-2.06 2.06-.94-2.06-.94-.94-2.06-.94 2.06-2.06.94z\"/><path d=\"M17.41 7.96l-1.37-1.37c-.4-.4-.92-.59-1.43-.59-.52 0-1.04.2-1.43.59L10.3 9.45l-7.72 7.72c-.78.78-.78 2.05 0 2.83L4 21.41c.39.39.9.59 1.41.59.51 0 1.02-.2 1.41-.59l7.78-7.78 2.81-2.81c.8-.78.8-2.07 0-2.86zM5.41 20L4 18.59l7.72-7.72 1.47 1.35L5.41 20z\"/>\n",
              "  </svg>\n",
              "      </button>\n",
              "      \n",
              "  <style>\n",
              "    .colab-df-container {\n",
              "      display:flex;\n",
              "      flex-wrap:wrap;\n",
              "      gap: 12px;\n",
              "    }\n",
              "\n",
              "    .colab-df-convert {\n",
              "      background-color: #E8F0FE;\n",
              "      border: none;\n",
              "      border-radius: 50%;\n",
              "      cursor: pointer;\n",
              "      display: none;\n",
              "      fill: #1967D2;\n",
              "      height: 32px;\n",
              "      padding: 0 0 0 0;\n",
              "      width: 32px;\n",
              "    }\n",
              "\n",
              "    .colab-df-convert:hover {\n",
              "      background-color: #E2EBFA;\n",
              "      box-shadow: 0px 1px 2px rgba(60, 64, 67, 0.3), 0px 1px 3px 1px rgba(60, 64, 67, 0.15);\n",
              "      fill: #174EA6;\n",
              "    }\n",
              "\n",
              "    [theme=dark] .colab-df-convert {\n",
              "      background-color: #3B4455;\n",
              "      fill: #D2E3FC;\n",
              "    }\n",
              "\n",
              "    [theme=dark] .colab-df-convert:hover {\n",
              "      background-color: #434B5C;\n",
              "      box-shadow: 0px 1px 3px 1px rgba(0, 0, 0, 0.15);\n",
              "      filter: drop-shadow(0px 1px 2px rgba(0, 0, 0, 0.3));\n",
              "      fill: #FFFFFF;\n",
              "    }\n",
              "  </style>\n",
              "\n",
              "      <script>\n",
              "        const buttonEl =\n",
              "          document.querySelector('#df-91e3abb3-3c7c-4528-8137-e8b357555281 button.colab-df-convert');\n",
              "        buttonEl.style.display =\n",
              "          google.colab.kernel.accessAllowed ? 'block' : 'none';\n",
              "\n",
              "        async function convertToInteractive(key) {\n",
              "          const element = document.querySelector('#df-91e3abb3-3c7c-4528-8137-e8b357555281');\n",
              "          const dataTable =\n",
              "            await google.colab.kernel.invokeFunction('convertToInteractive',\n",
              "                                                     [key], {});\n",
              "          if (!dataTable) return;\n",
              "\n",
              "          const docLinkHtml = 'Like what you see? Visit the ' +\n",
              "            '<a target=\"_blank\" href=https://colab.research.google.com/notebooks/data_table.ipynb>data table notebook</a>'\n",
              "            + ' to learn more about interactive tables.';\n",
              "          element.innerHTML = '';\n",
              "          dataTable['output_type'] = 'display_data';\n",
              "          await google.colab.output.renderOutput(dataTable, element);\n",
              "          const docLink = document.createElement('div');\n",
              "          docLink.innerHTML = docLinkHtml;\n",
              "          element.appendChild(docLink);\n",
              "        }\n",
              "      </script>\n",
              "    </div>\n",
              "  </div>\n",
              "  "
            ]
          },
          "metadata": {},
          "execution_count": 19
        }
      ]
    },
    {
      "cell_type": "code",
      "source": [
        "p1_control = 204026.2949/4068457.9627\n",
        "p2_test    = 158701.9904/4820496.4703"
      ],
      "metadata": {
        "id": "fimK4DUUNXe9"
      },
      "execution_count": 20,
      "outputs": []
    },
    {
      "cell_type": "code",
      "source": [
        "reklama_tiklayan = p.values[:,0]\n",
        "reklami_goruntuleyen = p.values[:,1]"
      ],
      "metadata": {
        "id": "eloMzWiqNewj"
      },
      "execution_count": 23,
      "outputs": []
    },
    {
      "cell_type": "code",
      "source": [
        "reklama_tiklayan"
      ],
      "metadata": {
        "colab": {
          "base_uri": "https://localhost:8080/"
        },
        "id": "WU8wWqfVNgte",
        "outputId": "7820a5f5-fbc6-4f34-f601-be148cd45eb5"
      },
      "execution_count": 24,
      "outputs": [
        {
          "output_type": "execute_result",
          "data": {
            "text/plain": [
              "array([204026.29490309, 158701.99043224])"
            ]
          },
          "metadata": {},
          "execution_count": 24
        }
      ]
    },
    {
      "cell_type": "code",
      "source": [
        "reklami_goruntuleyen"
      ],
      "metadata": {
        "colab": {
          "base_uri": "https://localhost:8080/"
        },
        "id": "1yALpcTLNlAI",
        "outputId": "8b4c0c17-91b8-47a4-e672-418d9734b016"
      },
      "execution_count": 25,
      "outputs": [
        {
          "output_type": "execute_result",
          "data": {
            "text/plain": [
              "array([4068457.96270789, 4820496.47030138])"
            ]
          },
          "metadata": {},
          "execution_count": 25
        }
      ]
    },
    {
      "cell_type": "code",
      "source": [
        "p1_control"
      ],
      "metadata": {
        "colab": {
          "base_uri": "https://localhost:8080/"
        },
        "id": "-9httD4nNaIO",
        "outputId": "70ccb2c9-300e-4697-a0be-fe8a1b529b66"
      },
      "execution_count": 21,
      "outputs": [
        {
          "output_type": "execute_result",
          "data": {
            "text/plain": [
              "0.05014831092530192"
            ]
          },
          "metadata": {},
          "execution_count": 21
        }
      ]
    },
    {
      "cell_type": "code",
      "source": [
        "p2_test"
      ],
      "metadata": {
        "colab": {
          "base_uri": "https://localhost:8080/"
        },
        "id": "XWOq-PIvNbtC",
        "outputId": "b22b8b34-f878-4c5a-b881-ce29a8685788"
      },
      "execution_count": 22,
      "outputs": [
        {
          "output_type": "execute_result",
          "data": {
            "text/plain": [
              "0.03292233307871778"
            ]
          },
          "metadata": {},
          "execution_count": 22
        }
      ]
    },
    {
      "cell_type": "code",
      "source": [
        "df_concat[\"ci_ratio\"] = df_concat[\"click\"] / df_concat[\"impression\"]\n"
      ],
      "metadata": {
        "id": "93m4efU-Nph3"
      },
      "execution_count": 26,
      "outputs": []
    },
    {
      "cell_type": "code",
      "source": [
        "df_concat.groupby(\"dtype\").agg({\"ci_ratio\":\"mean\",\n",
        "                                \"purchase\":\"mean\"})"
      ],
      "metadata": {
        "colab": {
          "base_uri": "https://localhost:8080/",
          "height": 144
        },
        "id": "wCYhUNXDNrKb",
        "outputId": "35e5d7d6-265c-4bd2-f785-c00aeb9f8a35"
      },
      "execution_count": 27,
      "outputs": [
        {
          "output_type": "execute_result",
          "data": {
            "text/plain": [
              "         ci_ratio    purchase\n",
              "dtype                        \n",
              "control  0.053618  550.894059\n",
              "test     0.034176  582.106097"
            ],
            "text/html": [
              "\n",
              "  <div id=\"df-b8710990-4e32-4a2c-a8f1-347d59cf83c5\">\n",
              "    <div class=\"colab-df-container\">\n",
              "      <div>\n",
              "<style scoped>\n",
              "    .dataframe tbody tr th:only-of-type {\n",
              "        vertical-align: middle;\n",
              "    }\n",
              "\n",
              "    .dataframe tbody tr th {\n",
              "        vertical-align: top;\n",
              "    }\n",
              "\n",
              "    .dataframe thead th {\n",
              "        text-align: right;\n",
              "    }\n",
              "</style>\n",
              "<table border=\"1\" class=\"dataframe\">\n",
              "  <thead>\n",
              "    <tr style=\"text-align: right;\">\n",
              "      <th></th>\n",
              "      <th>ci_ratio</th>\n",
              "      <th>purchase</th>\n",
              "    </tr>\n",
              "    <tr>\n",
              "      <th>dtype</th>\n",
              "      <th></th>\n",
              "      <th></th>\n",
              "    </tr>\n",
              "  </thead>\n",
              "  <tbody>\n",
              "    <tr>\n",
              "      <th>control</th>\n",
              "      <td>0.053618</td>\n",
              "      <td>550.894059</td>\n",
              "    </tr>\n",
              "    <tr>\n",
              "      <th>test</th>\n",
              "      <td>0.034176</td>\n",
              "      <td>582.106097</td>\n",
              "    </tr>\n",
              "  </tbody>\n",
              "</table>\n",
              "</div>\n",
              "      <button class=\"colab-df-convert\" onclick=\"convertToInteractive('df-b8710990-4e32-4a2c-a8f1-347d59cf83c5')\"\n",
              "              title=\"Convert this dataframe to an interactive table.\"\n",
              "              style=\"display:none;\">\n",
              "        \n",
              "  <svg xmlns=\"http://www.w3.org/2000/svg\" height=\"24px\"viewBox=\"0 0 24 24\"\n",
              "       width=\"24px\">\n",
              "    <path d=\"M0 0h24v24H0V0z\" fill=\"none\"/>\n",
              "    <path d=\"M18.56 5.44l.94 2.06.94-2.06 2.06-.94-2.06-.94-.94-2.06-.94 2.06-2.06.94zm-11 1L8.5 8.5l.94-2.06 2.06-.94-2.06-.94L8.5 2.5l-.94 2.06-2.06.94zm10 10l.94 2.06.94-2.06 2.06-.94-2.06-.94-.94-2.06-.94 2.06-2.06.94z\"/><path d=\"M17.41 7.96l-1.37-1.37c-.4-.4-.92-.59-1.43-.59-.52 0-1.04.2-1.43.59L10.3 9.45l-7.72 7.72c-.78.78-.78 2.05 0 2.83L4 21.41c.39.39.9.59 1.41.59.51 0 1.02-.2 1.41-.59l7.78-7.78 2.81-2.81c.8-.78.8-2.07 0-2.86zM5.41 20L4 18.59l7.72-7.72 1.47 1.35L5.41 20z\"/>\n",
              "  </svg>\n",
              "      </button>\n",
              "      \n",
              "  <style>\n",
              "    .colab-df-container {\n",
              "      display:flex;\n",
              "      flex-wrap:wrap;\n",
              "      gap: 12px;\n",
              "    }\n",
              "\n",
              "    .colab-df-convert {\n",
              "      background-color: #E8F0FE;\n",
              "      border: none;\n",
              "      border-radius: 50%;\n",
              "      cursor: pointer;\n",
              "      display: none;\n",
              "      fill: #1967D2;\n",
              "      height: 32px;\n",
              "      padding: 0 0 0 0;\n",
              "      width: 32px;\n",
              "    }\n",
              "\n",
              "    .colab-df-convert:hover {\n",
              "      background-color: #E2EBFA;\n",
              "      box-shadow: 0px 1px 2px rgba(60, 64, 67, 0.3), 0px 1px 3px 1px rgba(60, 64, 67, 0.15);\n",
              "      fill: #174EA6;\n",
              "    }\n",
              "\n",
              "    [theme=dark] .colab-df-convert {\n",
              "      background-color: #3B4455;\n",
              "      fill: #D2E3FC;\n",
              "    }\n",
              "\n",
              "    [theme=dark] .colab-df-convert:hover {\n",
              "      background-color: #434B5C;\n",
              "      box-shadow: 0px 1px 3px 1px rgba(0, 0, 0, 0.15);\n",
              "      filter: drop-shadow(0px 1px 2px rgba(0, 0, 0, 0.3));\n",
              "      fill: #FFFFFF;\n",
              "    }\n",
              "  </style>\n",
              "\n",
              "      <script>\n",
              "        const buttonEl =\n",
              "          document.querySelector('#df-b8710990-4e32-4a2c-a8f1-347d59cf83c5 button.colab-df-convert');\n",
              "        buttonEl.style.display =\n",
              "          google.colab.kernel.accessAllowed ? 'block' : 'none';\n",
              "\n",
              "        async function convertToInteractive(key) {\n",
              "          const element = document.querySelector('#df-b8710990-4e32-4a2c-a8f1-347d59cf83c5');\n",
              "          const dataTable =\n",
              "            await google.colab.kernel.invokeFunction('convertToInteractive',\n",
              "                                                     [key], {});\n",
              "          if (!dataTable) return;\n",
              "\n",
              "          const docLinkHtml = 'Like what you see? Visit the ' +\n",
              "            '<a target=\"_blank\" href=https://colab.research.google.com/notebooks/data_table.ipynb>data table notebook</a>'\n",
              "            + ' to learn more about interactive tables.';\n",
              "          element.innerHTML = '';\n",
              "          dataTable['output_type'] = 'display_data';\n",
              "          await google.colab.output.renderOutput(dataTable, element);\n",
              "          const docLink = document.createElement('div');\n",
              "          docLink.innerHTML = docLinkHtml;\n",
              "          element.appendChild(docLink);\n",
              "        }\n",
              "      </script>\n",
              "    </div>\n",
              "  </div>\n",
              "  "
            ]
          },
          "metadata": {},
          "execution_count": 27
        }
      ]
    },
    {
      "cell_type": "markdown",
      "source": [
        "#####################################\n",
        "# GOREV 3: HIPOTEZ TESTININ GERCEKLESTIRILMESI\n",
        "#####################################\n",
        "# GOREV 3 ADIM 1:\n",
        "* TODO: test ve kontrol gruplari icin varsayim kontrolu yap\n",
        "\n",
        "#####################################"
      ],
      "metadata": {
        "id": "2ID7gO8gNihX"
      }
    },
    {
      "cell_type": "markdown",
      "source": [
        "## ---- normallik varsayimi ----"
      ],
      "metadata": {
        "id": "XalJyLilNzwf"
      }
    },
    {
      "cell_type": "markdown",
      "source": [
        " H0: standart normal dagilim ile control/test veri setinin purchase degiskeninin dagilimi arasında istatistiksel olarak anlamli bir farklilik yoktur.\n",
        " \n",
        " H1: standart normal dagilim ile control/test veri setinin purchase degiskeninin dagilimi arasında istatistiksel olarak anlamli bir farklilik vardir.\n",
        "\n",
        " H0: dagilim normal dagilima uyar.\n",
        " \n",
        " H1: dagilim normal dagilima uymaz."
      ],
      "metadata": {
        "id": "E5QG-qBZN21A"
      }
    },
    {
      "cell_type": "code",
      "source": [
        "for type in list(df_concat[\"dtype\"].unique()):\n",
        "    test_stat, p_value = shapiro(df_concat.loc[df_concat[\"dtype\"]==type,\"purchase\"])\n",
        "    print(type,\"veri seti :\",\"test degeri : %.4f,  p value : %.4f\" % (test_stat,p_value))"
      ],
      "metadata": {
        "colab": {
          "base_uri": "https://localhost:8080/"
        },
        "id": "-NnQvTJBN93U",
        "outputId": "c42755e9-4cac-455e-fbed-40db69f6dd2a"
      },
      "execution_count": 28,
      "outputs": [
        {
          "output_type": "stream",
          "name": "stdout",
          "text": [
            "control veri seti : test degeri : 0.9773,  p value : 0.5891\n",
            "test veri seti : test degeri : 0.9589,  p value : 0.1541\n"
          ]
        }
      ]
    },
    {
      "cell_type": "markdown",
      "source": [
        "## ---- normallik varsayimi sonuc ----\n"
      ],
      "metadata": {
        "id": "3cpsu1OOOCTN"
      }
    },
    {
      "cell_type": "markdown",
      "source": [
        "p value > 0.05 H0 reddedilemez. (normallik varsayimi saglanmistir.)"
      ],
      "metadata": {
        "id": "mlCDUGc7OEf-"
      }
    },
    {
      "cell_type": "markdown",
      "source": [
        "## ---- varyans homojenligi varsayimi ----"
      ],
      "metadata": {
        "id": "d6e1OfJ1OJW3"
      }
    },
    {
      "cell_type": "markdown",
      "source": [
        "H0: varyans homojenligi saglanmistir.\n",
        "\n",
        "H1: varyans homojenligi saglanmamistir."
      ],
      "metadata": {
        "id": "vcFjGZ1zOMUT"
      }
    },
    {
      "cell_type": "code",
      "source": [
        "test_stat, p_value = levene(df_concat.loc[df_concat[\"dtype\"]==\"control\",\"purchase\"],\n",
        "                            df_concat.loc[df_concat[\"dtype\"]==\"test\",\"purchase\"])\n",
        "print(\"test degeri : %.4f,  p value : %.4f\" % (test_stat,p_value))"
      ],
      "metadata": {
        "colab": {
          "base_uri": "https://localhost:8080/"
        },
        "id": "g20-FwXrOGqz",
        "outputId": "8575012d-020a-46b8-f21b-a22c226eba87"
      },
      "execution_count": 29,
      "outputs": [
        {
          "output_type": "stream",
          "name": "stdout",
          "text": [
            "test degeri : 2.6393,  p value : 0.1083\n"
          ]
        }
      ]
    },
    {
      "cell_type": "markdown",
      "source": [
        "## ---- varyans homojenligi varsayimi sonuc ----"
      ],
      "metadata": {
        "id": "j77ejEYSOSoD"
      }
    },
    {
      "cell_type": "markdown",
      "source": [
        "p value > 0.05 H0 reddedilemez. (varyans homojenligi saglanmistir.)"
      ],
      "metadata": {
        "id": "2ojynPiAOSdJ"
      }
    },
    {
      "cell_type": "markdown",
      "source": [
        "#####################################\n",
        "# GOREV 3 ADIM 2:\n",
        "#*TODO: varsayim kontrolu sonrası uygun testi seciniz\n",
        "\n",
        "#####################################"
      ],
      "metadata": {
        "id": "YcDCkkSjOYuk"
      }
    },
    {
      "cell_type": "markdown",
      "source": [
        "normallik ve varyans homojenligi varsayimlari saglandigi icin parametrik yöntem\n",
        "tercih edilir (porportion_ztest uygulanacak) - varsayimlarin ikisi de saglandigi icin equal_var= True -"
      ],
      "metadata": {
        "id": "VlUIjx2iOb2m"
      }
    },
    {
      "cell_type": "code",
      "source": [
        "test_stat, p_value = proportions_ztest(reklama_tiklayan, reklami_goruntuleyen)\n",
        "print(\"test degeri : %.4f , p value : %.4f \" % (test_stat,p_value))"
      ],
      "metadata": {
        "colab": {
          "base_uri": "https://localhost:8080/"
        },
        "id": "_yeziGU2OeE4",
        "outputId": "32eb45ea-ef86-435e-a98f-6ea72980ff81"
      },
      "execution_count": 30,
      "outputs": [
        {
          "output_type": "stream",
          "name": "stdout",
          "text": [
            "test degeri : 129.3305 , p value : 0.0000 \n"
          ]
        }
      ]
    },
    {
      "cell_type": "markdown",
      "source": [
        "#####################################\n",
        "# GOREV 3 ADIM 3:\n",
        "* TODO: sonuclari yorumla\n",
        "\n",
        "#####################################\n"
      ],
      "metadata": {
        "id": "vph1nipROik_"
      }
    },
    {
      "cell_type": "markdown",
      "source": [
        "p value < 0.05 yani en basta kurdugumuz H0 hipotezi reddedilir. \n",
        "control ve test olarak olusturulmus iki farkli tasarıma ait veri setlerinin ortalama purchase degeri \n",
        "hesaplandiginda meydana gelen farklilik tesadufi degildir, istatistiksel olarak anlamli bir farklilikdir.\n",
        "\n"
      ],
      "metadata": {
        "id": "LuP-pTVqOrmJ"
      }
    },
    {
      "cell_type": "markdown",
      "source": [
        "\n",
        "#####################################\n",
        "# GOREV 4: HIPOTEZ TESTININ GERCEKLESTIRILMESI\n",
        "#####################################\n",
        "# GOREV 4 ADIM 1:\n",
        "* TODO: hangi test neden kullanildi, sebepler ?\n",
        "\n",
        "#####################################\n"
      ],
      "metadata": {
        "id": "riLzyPCFOu40"
      }
    },
    {
      "cell_type": "markdown",
      "source": [
        "incelemelerimiz oran üzerinden oldugu için anahipotezimizi sorgulamak adına proprotion_ztest kullandık\n",
        "normallik ve varyans homojenligi kısmında ise sirasiyla shapiro ve levene  testleri ile alt hipotezlerimizin \n",
        "dogrulugunu sinadik."
      ],
      "metadata": {
        "id": "NrPpEGZVOzSh"
      }
    },
    {
      "cell_type": "markdown",
      "source": [
        "#####################################\n",
        "# GOREV 4 ADIM 2:\n",
        "* TODO: sonuclara gore aksiyon fikirleriniz?\n",
        "\n",
        "#####################################\n"
      ],
      "metadata": {
        "id": "ybv2YAnFO2Xm"
      }
    },
    {
      "cell_type": "markdown",
      "source": [
        "ana hipotezimizin p value'su 0.05 den kücük oldugu icin iki tasarımın ortalama purchase uzerinde farklı geri dosnusum \n",
        "oranlarina sahip olmasının tamamen tesaduften ibaret oldugunu saavunan H0 hipotezimizi reddederiz.bu sayede uygulamamizin \n",
        "basinda olctugumuz geri donusum oranlarından daha yuksek olan control veri setine uygulanan tasarımın bariz bir sekilde \n",
        "daha iyi sonuclar aciga cikardigi gorulmektedir.uygulamanin bu andan itibaren control \n",
        "veri setindeki haliyle kalmasi mantikli karar olacaktir."
      ],
      "metadata": {
        "id": "dsjrEYW9O7Dl"
      }
    }
  ]
}